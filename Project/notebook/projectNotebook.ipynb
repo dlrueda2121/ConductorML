{
 "cells": [
  {
   "cell_type": "markdown",
   "metadata": {},
   "source": [
    "# ECS 171 Group Project - Group 10 - Reference ANN"
   ]
  },
  {
   "cell_type": "code",
   "execution_count": 3,
   "metadata": {},
   "outputs": [],
   "source": [
    "import numpy as np\n",
    "import pandas as pd\n",
    "\n",
    "np.random.seed(171)\n",
    "\n",
    "#Contains 81 features extracted from 21263 superconductors along with the critical temperature in the 82nd column\n",
    "X_train = pd.read_csv('./../../Data/X_train.csv', header=None)\n",
    "Y_train = pd.read_csv('./../../Data/Y_train.csv', header=None)\n",
    "\n",
    "X_test  = pd.read_csv('./../../Data/X_test.csv', header=None)\n",
    "Y_test  = pd.read_csv('./../../Data/Y_test.csv', header=None)"
   ]
  },
  {
   "cell_type": "markdown",
   "metadata": {},
   "source": [
    "## Untuned Reference Neural Network"
   ]
  },
  {
   "cell_type": "code",
   "execution_count": 12,
   "metadata": {},
   "outputs": [
    {
     "name": "stdout",
     "output_type": "stream",
     "text": [
      "220/220 [==============================] - 0s 456us/step - loss: 186.2332 - root_mean_squared_error: 13.6467 - coeff_determination: 0.8296\n",
      "\n",
      "train  mse: 113.8455810546875\n",
      "train rsme: 10.669844627380371\n",
      "train  R^2: 0.8991572856903076\n",
      "\n",
      "test   mse: 186.23316955566406\n",
      "test  rmse: 13.646727561950684\n",
      "test   R^2: 0.8296017646789551\n"
     ]
    }
   ],
   "source": [
    "from tensorflow import keras\n",
    "from tensorflow.keras import Sequential\n",
    "from tensorflow.keras import layers\n",
    "from sklearn.preprocessing import MinMaxScaler\n",
    "from tensorflow.keras.layers import Dense\n",
    "\n",
    "# source: https://jmlb.github.io/ml/2017/03/20/CoeffDetermination_CustomMetric4Keras/\n",
    "from tensorflow.keras import backend as K\n",
    "# calculate R^2\n",
    "def coeff_determination(y_true, y_pred):\n",
    "    SS_res =  K.sum(K.square( y_true-y_pred )) \n",
    "    SS_tot = K.sum(K.square( y_true - K.mean(y_true) ) ) \n",
    "    return ( 1 - SS_res/(SS_tot + K.epsilon()) )\n",
    "\n",
    "sc = MinMaxScaler()\n",
    "X_train = sc.fit_transform(X_train)\n",
    "X_test = sc.fit_transform(X_test)\n",
    "\n",
    "nn = Sequential(\n",
    "    [\n",
    "        keras.Input(shape=X_train.shape[1]),\n",
    "        layers.Dense(20, activation='relu'),\n",
    "        layers.Dense(60, activation='relu'),\n",
    "        layers.Dense(60, activation='relu'),\n",
    "        layers.Dense(100, activation='relu'),\n",
    "        layers.Dense(60, activation='relu'),\n",
    "        layers.Dense(60, activation='relu'),\n",
    "        layers.Dense(20, activation='relu'),\n",
    "        layers.Dense(1)\n",
    "    ]\n",
    ")\n",
    "\n",
    "\n",
    "nn.compile(optimizer=keras.optimizers.Adam(learning_rate=0.001), \n",
    "           loss=\"mean_squared_error\",\n",
    "           metrics=[keras.metrics.RootMeanSquaredError(\n",
    "    name=\"root_mean_squared_error\", dtype=None), coeff_determination])\n",
    "\n",
    "NUM_EPOCHS = 215\n",
    "history = nn.fit(X_train, Y_train, batch_size=64, epochs=NUM_EPOCHS, verbose=0)\n",
    "\n",
    "pred = nn.predict(X_test)\n",
    "results = nn.evaluate(X_test, Y_test)\n",
    "\n",
    "print()\n",
    "print(\"train  mse: \" + str(history.history['loss'][NUM_EPOCHS-1]))\n",
    "print(\"train rsme: \" + str(history.history['root_mean_squared_error'][NUM_EPOCHS-1]))\n",
    "print(\"train  R^2: \" + str(history.history['coeff_determination'][NUM_EPOCHS-1]))\n",
    "print()\n",
    "print(\"test   mse: \" + str(results[0]))\n",
    "print(\"test  rmse: \" + str(results[1]))\n",
    "print(\"test   R^2: \" + str(results[2]))"
   ]
  },
  {
   "cell_type": "markdown",
   "metadata": {},
   "source": [
    "## Tuned Neural Network"
   ]
  },
  {
   "cell_type": "code",
   "execution_count": 7,
   "metadata": {
    "scrolled": true
   },
   "outputs": [
    {
     "name": "stdout",
     "output_type": "stream",
     "text": [
      "INFO:tensorflow:Reloading Oracle from existing project random_search1/group10/oracle.json\n",
      "INFO:tensorflow:Reloading Tuner from random_search1/group10/tuner0.json\n",
      "INFO:tensorflow:Oracle triggered exit\n"
     ]
    }
   ],
   "source": [
    "# source: https://www.sicara.ai/blog/hyperparameter-tuning-keras-tuner\n",
    "#         https://pythonprogramming.net/keras-tuner-optimizing-neural-network-tutorial/\n",
    "#.        https://www.youtube.com/watch?v=vvC15l4CY1Q\n",
    "\n",
    "from kerastuner import HyperModel\n",
    "from kerastuner.tuners import RandomSearch\n",
    "\n",
    "def build_model(hp):\n",
    "    model = Sequential()\n",
    "    model.add(keras.Input(shape=X_train.shape[1]))\n",
    "    \n",
    "    for i in range(hp.Int('units', min_value=1, max_value=8, step=1)):\n",
    "        model.add(\n",
    "            Dense(\n",
    "                units=hp.Int('units', min_value=10, max_value=40, step=5),\n",
    "                activation='relu'\n",
    "            )\n",
    "        )\n",
    "    \n",
    "    model.add(\n",
    "        Dense(1, activation='linear')\n",
    "    )\n",
    "\n",
    "    model.compile(\n",
    "        optimizer=keras.optimizers.Adam(\n",
    "            hp.Float(\n",
    "                'learning_rate',\n",
    "                min_value=1e-4,\n",
    "                max_value=1e-2,\n",
    "                sampling='LOG',\n",
    "                default=1e-3\n",
    "            )\n",
    "        ),\n",
    "        loss='mean_squared_error',\n",
    "        metrics=[keras.metrics.RootMeanSquaredError(name=\"root_mean_squared_error\", dtype=None),\n",
    "                 keras.metrics.MeanSquaredError()]\n",
    "    )\n",
    "\n",
    "    return model\n",
    "\n",
    "SEED=1\n",
    "MAX_TRIALS=100\n",
    "EXECUTION_PER_TRIAL=1\n",
    "\n",
    "tuner = RandomSearch(\n",
    "    build_model,\n",
    "    objective='mean_squared_error',\n",
    "    seed=SEED,\n",
    "    max_trials=MAX_TRIALS,\n",
    "    executions_per_trial=EXECUTION_PER_TRIAL,\n",
    "    directory='random_search1',\n",
    "    project_name='group10'\n",
    ")\n",
    "\n",
    "tuner.search(x=X_train,\n",
    "             y=Y_train,\n",
    "             epochs=215,\n",
    "             batch_size=64,\n",
    "             validation_data=(X_test,Y_test))"
   ]
  },
  {
   "cell_type": "code",
   "execution_count": 13,
   "metadata": {},
   "outputs": [
    {
     "name": "stdout",
     "output_type": "stream",
     "text": [
      "WARNING:tensorflow:Unresolved object in checkpoint: (root).optimizer.iter\n",
      "WARNING:tensorflow:Unresolved object in checkpoint: (root).optimizer.beta_1\n",
      "WARNING:tensorflow:Unresolved object in checkpoint: (root).optimizer.beta_2\n",
      "WARNING:tensorflow:Unresolved object in checkpoint: (root).optimizer.decay\n",
      "WARNING:tensorflow:Unresolved object in checkpoint: (root).optimizer.learning_rate\n",
      "WARNING:tensorflow:A checkpoint was restored (e.g. tf.train.Checkpoint.restore or tf.keras.Model.load_weights) but not all checkpointed values were used. See above for specific issues. Use expect_partial() on the load status object, e.g. tf.train.Checkpoint.restore(...).expect_partial(), to silence these warnings, or use assert_consumed() to make the check explicit. See https://www.tensorflow.org/guide/checkpoint#loading_mechanics for details.\n",
      "Model: \"sequential\"\n",
      "_________________________________________________________________\n",
      "Layer (type)                 Output Shape              Param #   \n",
      "=================================================================\n",
      "dense (Dense)                (None, 7)                 574       \n",
      "_________________________________________________________________\n",
      "dense_1 (Dense)              (None, 7)                 56        \n",
      "_________________________________________________________________\n",
      "dense_2 (Dense)              (None, 7)                 56        \n",
      "_________________________________________________________________\n",
      "dense_3 (Dense)              (None, 7)                 56        \n",
      "_________________________________________________________________\n",
      "dense_4 (Dense)              (None, 7)                 56        \n",
      "_________________________________________________________________\n",
      "dense_5 (Dense)              (None, 7)                 56        \n",
      "_________________________________________________________________\n",
      "dense_6 (Dense)              (None, 7)                 56        \n",
      "_________________________________________________________________\n",
      "dense_7 (Dense)              (None, 1)                 8         \n",
      "=================================================================\n",
      "Total params: 918\n",
      "Trainable params: 918\n",
      "Non-trainable params: 0\n",
      "_________________________________________________________________\n",
      "WARNING:tensorflow:Unresolved object in checkpoint: (root).optimizer.iter\n",
      "WARNING:tensorflow:Unresolved object in checkpoint: (root).optimizer.beta_1\n",
      "WARNING:tensorflow:Unresolved object in checkpoint: (root).optimizer.beta_2\n",
      "WARNING:tensorflow:Unresolved object in checkpoint: (root).optimizer.decay\n",
      "WARNING:tensorflow:Unresolved object in checkpoint: (root).optimizer.learning_rate\n",
      "WARNING:tensorflow:A checkpoint was restored (e.g. tf.train.Checkpoint.restore or tf.keras.Model.load_weights) but not all checkpointed values were used. See above for specific issues. Use expect_partial() on the load status object, e.g. tf.train.Checkpoint.restore(...).expect_partial(), to silence these warnings, or use assert_consumed() to make the check explicit. See https://www.tensorflow.org/guide/checkpoint#loading_mechanics for details.\n"
     ]
    }
   ],
   "source": [
    "tuner.get_best_models()[0].summary()"
   ]
  },
  {
   "cell_type": "code",
   "execution_count": 14,
   "metadata": {},
   "outputs": [
    {
     "name": "stdout",
     "output_type": "stream",
     "text": [
      "220/220 [==============================] - 0s 426us/step - loss: 232.7189 - root_mean_squared_error: 15.2551 - mean_squared_error: 232.7189\n",
      "\n",
      "tuned rmse: 15.255128860473633\n"
     ]
    }
   ],
   "source": [
    "import math\n",
    "tuned_model = tuner.get_best_models(num_models=1)\n",
    "tuned_results = tuned_model[0].evaluate(X_test,Y_test)\n",
    "print(\"\\ntuned rmse: \" + str(tuned_results[1]))"
   ]
  },
  {
   "cell_type": "code",
   "execution_count": null,
   "metadata": {},
   "outputs": [],
   "source": []
  }
 ],
 "metadata": {
  "kernelspec": {
   "display_name": "Python 3",
   "language": "python",
   "name": "python3"
  },
  "language_info": {
   "codemirror_mode": {
    "name": "ipython",
    "version": 3
   },
   "file_extension": ".py",
   "mimetype": "text/x-python",
   "name": "python",
   "nbconvert_exporter": "python",
   "pygments_lexer": "ipython3",
   "version": "3.8.3"
  }
 },
 "nbformat": 4,
 "nbformat_minor": 4
}
