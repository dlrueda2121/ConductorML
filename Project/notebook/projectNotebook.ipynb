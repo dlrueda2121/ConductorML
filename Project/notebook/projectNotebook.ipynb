{
 "cells": [
  {
   "cell_type": "markdown",
   "metadata": {},
   "source": [
    "# ECS 171 Group Project - Group 10 - ???"
   ]
  },
  {
   "cell_type": "markdown",
   "metadata": {},
   "source": [
    "## Clean/Wrangle Data\n",
    "\n",
    "\"Process the data the same way the paper author did\""
   ]
  },
  {
   "cell_type": "code",
   "execution_count": null,
   "metadata": {},
   "outputs": [],
   "source": [
    "import pandas as pd\n",
    "\n",
    "#Contains 81 features extracted from 21263 superconductors along with the critical temperature in the 82nd column\n",
    "train = pd.read_csv('./../superconduct/train.csv')\n",
    "\n",
    "#Contains the chemical formula broken up for all the 21263 superconductors from the train.csv file.\n",
    "#The last two columns have the critical temperature and chemical formula.\n",
    "formula = pd.read_csv('./../superconduct/unique_m.csv')\n",
    "\n",
    "print(\"Training Data\")\n",
    "print(train.shape)\n",
    "print(train.head())\n",
    "\n",
    "print(\"\\nChemical formulas\")\n",
    "print(formula.shape)\n",
    "print(formula.head())"
   ]
  },
  {
   "cell_type": "code",
   "execution_count": null,
   "metadata": {},
   "outputs": [],
   "source": []
  },
  {
   "cell_type": "markdown",
   "metadata": {},
   "source": [
    "## Replicate original XGBoost model"
   ]
  },
  {
   "cell_type": "code",
   "execution_count": null,
   "metadata": {},
   "outputs": [],
   "source": []
  },
  {
   "cell_type": "markdown",
   "metadata": {},
   "source": [
    "## Optimize XGBoost model with tuned hyperparameters"
   ]
  },
  {
   "cell_type": "code",
   "execution_count": null,
   "metadata": {},
   "outputs": [],
   "source": []
  },
  {
   "cell_type": "markdown",
   "metadata": {},
   "source": [
    "## Train and test a Random Forest model"
   ]
  },
  {
   "cell_type": "code",
   "execution_count": null,
   "metadata": {},
   "outputs": [],
   "source": []
  },
  {
   "cell_type": "markdown",
   "metadata": {},
   "source": [
    "## Optimize Random Forest model with tuned hyperparameters"
   ]
  },
  {
   "cell_type": "code",
   "execution_count": null,
   "metadata": {},
   "outputs": [],
   "source": []
  },
  {
   "cell_type": "markdown",
   "metadata": {},
   "source": [
    "## Research Bayesian Neural Networks\n",
    "## Train and test a Bayesian Neural Network"
   ]
  },
  {
   "cell_type": "code",
   "execution_count": null,
   "metadata": {},
   "outputs": [],
   "source": []
  },
  {
   "cell_type": "markdown",
   "metadata": {},
   "source": [
    "## Optimize Bayesian Neural Network with tuned hyperparameters"
   ]
  },
  {
   "cell_type": "code",
   "execution_count": null,
   "metadata": {},
   "outputs": [],
   "source": []
  },
  {
   "cell_type": "markdown",
   "metadata": {},
   "source": [
    "## Analyze all model results and performances"
   ]
  },
  {
   "cell_type": "code",
   "execution_count": null,
   "metadata": {},
   "outputs": [],
   "source": []
  },
  {
   "cell_type": "markdown",
   "metadata": {},
   "source": [
    "## Frontend?"
   ]
  },
  {
   "cell_type": "code",
   "execution_count": null,
   "metadata": {},
   "outputs": [],
   "source": [
    "#Assumes numeric value is first in each column entry\n",
    "#Returns the series with only the numeric value, and converted to numeric series\n",
    "def getNumeric(input_series):\n",
    "    new_series = input_series.str.split(n=1)\n",
    "    for i in range(0,len(input_series)):\n",
    "        new_series[i] = new_series[i][0]\n",
    "    return pd.to_numeric(new_series)\n",
    "\n",
    "wolfram_data = pd.read_csv('./../superconduct/wolfram_element_data.csv')\n",
    "fie_data = pd.read_csv('./../superconduct/fie.csv')\n",
    "\n",
    "wolfram_data['atomic_mass'] = getNumeric(wolfram_data['atomic_mass'])\n",
    "wolfram_data['atomic_radius'] = getNumeric(wolfram_data['atomic_radius'])\n",
    "wolfram_data['Density'] = getNumeric(wolfram_data['Density'])\n",
    "wolfram_data['ElectronAffinity'] = getNumeric(wolfram_data['ElectronAffinity'])\n",
    "wolfram_data['FusionHeat'] = getNumeric(wolfram_data['FusionHeat'])\n",
    "wolfram_data['ThermalConductivity'] = getNumeric(wolfram_data['ThermalConductivity'])\n",
    "wolfram_data.head()\n",
    "\n",
    "element_data = wolfram_data\n",
    "element_data.insert(3, \"fie\", fie_data,True)\n",
    "element_data = element_data.set_index('Abbreviation')\n",
    "element_data = element_data.drop(['Atomic_Number'],axis=1)\n",
    "element_data['ElectronAffinity'] += 1.5\n",
    "print(element_data.head())"
   ]
  },
  {
   "cell_type": "code",
   "execution_count": null,
   "metadata": {},
   "outputs": [],
   "source": [
    "from math import log\n",
    "\n",
    "#!Parsing!\n",
    "#Check if input string is valid\n",
    "def checkValid(input_string):\n",
    "    for i in range(0,len(value)):\n",
    "        if(not ((value[i].isupper()) or (value[i].islower()) or (value[i].isdigit()) or (value[i] == '.'))):\n",
    "            return -1\n",
    "\n",
    "#Adds missing ones after abbreviations\n",
    "#HO2 -> H1O2\n",
    "def addOnes(input_string):\n",
    "    tempString = \"\"\n",
    "    for i in range(0,len(input_string)):\n",
    "        tempString += input_string[i]\n",
    "        if(input_string[i].isupper() or input_string[i].islower()):\n",
    "            if(i+1 == len(input_string) or input_string[i+1].isupper()):\n",
    "                tempString += '1'\n",
    "    return tempString\n",
    "\n",
    "#Adds spaces after tokens\n",
    "#H2O1 -> H 2 O 1\n",
    "def addSpaces(input_string):\n",
    "    tempString = \"\"\n",
    "    \n",
    "    for i in range(0,len(input_string)-1):\n",
    "        tempString += input_string[i]\n",
    "        if(input_string[i].isupper() or input_string[i].islower()):\n",
    "            if(input_string[i+1].isdigit()):\n",
    "                tempString += ' '\n",
    "        elif(input_string[i].isdigit()):\n",
    "            if(input_string[i+1].isupper()):\n",
    "                tempString += ' '\n",
    "    tempString += input_string[len(input_string)-1]\n",
    "    return tempString\n",
    "\n",
    "#Parse string into two lists\n",
    "#List of abbreviations and list of numbers\n",
    "def parseInput(input_string):\n",
    "    checkValid(input_string)\n",
    "    parsedString = addOnes(input_string)\n",
    "    parsedString = addSpaces(parsedString)\n",
    "    parsedList = parsedString.split(' ')\n",
    "    \n",
    "    abbreviations = []\n",
    "    numbers = []\n",
    "    for i in range(0,len(parsedList)):\n",
    "        if(i%2 == 0):\n",
    "            abbreviations.append(parsedList[i])\n",
    "        else:\n",
    "            numbers.append(float(parsedList[i]))\n",
    "    \n",
    "    return abbreviations, numbers\n",
    "\n",
    "\n",
    "##Functions for creating a sample from our parsed element data\n",
    "\n",
    "##Ratios of each element \n",
    "#H2O -> H - 0.66 O - 0.33\n",
    "def getRatios(input_list):\n",
    "    total = sum(input_list)\n",
    "    ratios = []\n",
    "    for i in range(0,len(input_list)):\n",
    "        ratios.append(input_list[i]/total)\n",
    "\n",
    "    return ratios\n",
    "\n",
    "def getValues(input_list,new_dataframe,colname):\n",
    "    newlist = []\n",
    "    for i in range(0,len(input_list)):\n",
    "        newlist.append(element_data.loc[new_dataframe['Abb'][i]][colname])\n",
    "    return newlist\n",
    "\n",
    "def getW(input_list):\n",
    "    total = sum(input_list)\n",
    "    wlist = []\n",
    "    for i in range(0,len(input_list)):\n",
    "        wlist.append(input_list[i]/total)\n",
    "    return wlist\n",
    "        \n",
    "def getInt(p,w):\n",
    "    total = 0\n",
    "    intList = []\n",
    "    for i in range(0,len(p)):\n",
    "        total += p[i]*w[i]\n",
    "    for i in range(0,len(p)):\n",
    "        intList.append((p[i]*w[i])/total)\n",
    "    return intList\n",
    "    \n",
    "def mean(input_list,n):\n",
    "    total = sum(input_list)/n\n",
    "\n",
    "    return total\n",
    "    \n",
    "def weightedMean(input_list,p):\n",
    "    total = 0\n",
    "    for i in range(0,len(input_list)):\n",
    "        total += input_list[i]*p[i]\n",
    "    \n",
    "    return total\n",
    "    \n",
    "def geometricMean(input_list,n):\n",
    "    total = 1\n",
    "    for i in range(0,len(input_list)):\n",
    "        total = total*input_list[i]\n",
    "    total = pow(total,1/n)\n",
    "\n",
    "    return total\n",
    "    \n",
    "def weightedGeometricMean(input_list,p):\n",
    "    total = 1\n",
    "    for i in range(0,len(input_list)):\n",
    "        total = total*pow(input_list[i],p[i])\n",
    "    \n",
    "    return total\n",
    "    \n",
    "def entropy(wList):\n",
    "    total = 0\n",
    "    for i in range(0,len(wList)):\n",
    "        print(wList[i])\n",
    "        total -= (wList[i]*log(wList[i]+0.000001))\n",
    "    \n",
    "    return total\n",
    "    \n",
    "def weightedEntropy(input_list):\n",
    "    total = 0\n",
    "    for i in range(0,len(input_list)):\n",
    "        total = total - (input_list[i]*log(input_list[i]+0.000001))\n",
    "        \n",
    "    return total\n",
    "    \n",
    "def getRange(input_list):\n",
    "    maximum = max(input_list)\n",
    "    minimum = min(input_list)\n",
    "    \n",
    "    return maximum - minimum\n",
    "    \n",
    "def getWeightedRange(input_list,p):\n",
    "    tempList = []\n",
    "    for i in range(0,len(input_list)):\n",
    "        tempList.append(p[i]*input_list[i])\n",
    "    maximum = max(tempList)\n",
    "    #max_index = input_list.index(maximum)\n",
    "    minimum = min(tempList)\n",
    "    #min_index = input_list.index(minimum)\n",
    "    \n",
    "    return maximum - minimum\n",
    "    \n",
    "def stdDev(input_list,mean,n):\n",
    "    total = 0\n",
    "    for i in range(0,len(input_list)):\n",
    "        total += pow((input_list[i]-mean),2)\n",
    "    total = (1/n)*total\n",
    "    total = pow(total,0.5)\n",
    "    \n",
    "    return total\n",
    "    \n",
    "def weightedStdDev(input_list,p,wtdMean):\n",
    "    total = 0\n",
    "    for i in range(0,len(input_list)):\n",
    "        total += p[i]*pow((input_list[i]-wtdMean),2)\n",
    "    total = pow(total,0.5)\n",
    "    \n",
    "    return total\n",
    "\n",
    "#Pass in return from parseInput\n",
    "def makeSample(data):\n",
    "    new_dataframe = pd.DataFrame(data)\n",
    "    new_dataframe = new_dataframe.T\n",
    "    new_dataframe.columns = ['Abb','Num']\n",
    "    ratios = getRatios(new_dataframe['Num'])\n",
    "    numValues = new_dataframe.shape[0]\n",
    "    \n",
    "    sampleList = []\n",
    "    sampleList.append(numValues)\n",
    "    \n",
    "    #len(element_data.columns)\n",
    "    for i in range(0,len(element_data.columns)):\n",
    "        valueList = getValues(new_dataframe['Abb'],new_dataframe,element_data.columns[i])\n",
    "        wList = getW(valueList)\n",
    "        intList = getInt(ratios,wList)\n",
    "        \n",
    "        mu = mean(valueList,numValues)\n",
    "        v = weightedMean(valueList,ratios)\n",
    "        \n",
    "        sampleList.append(mu)\n",
    "        sampleList.append(v)\n",
    "        sampleList.append(geometricMean(valueList,numValues))\n",
    "        sampleList.append(weightedGeometricMean(valueList,ratios))\n",
    "        sampleList.append(entropy(wList))\n",
    "        sampleList.append(weightedEntropy(intList))\n",
    "        sampleList.append(getRange(valueList))\n",
    "        sampleList.append(getWeightedRange(valueList,ratios))\n",
    "        sampleList.append(stdDev(valueList,mu,numValues))\n",
    "        sampleList.append(weightedStdDev(valueList,ratios,v))\n",
    "        \n",
    "    print(sampleList)\n",
    "        \n",
    "    return sampleList"
   ]
  },
  {
   "cell_type": "code",
   "execution_count": null,
   "metadata": {
    "scrolled": true
   },
   "outputs": [],
   "source": [
    "#Test it out\n",
    "#Should work properly\n",
    "value = input(\"Test: \")\n",
    "parsed = parseInput(value)\n",
    "Listy = makeSample(parsed)\n",
    "print(len(Listy))"
   ]
  }
 ],
 "metadata": {
  "kernelspec": {
   "display_name": "Python 3",
   "language": "python",
   "name": "python3"
  },
  "language_info": {
   "codemirror_mode": {
    "name": "ipython",
    "version": 3
   },
   "file_extension": ".py",
   "mimetype": "text/x-python",
   "name": "python",
   "nbconvert_exporter": "python",
   "pygments_lexer": "ipython3",
   "version": "3.8.3"
  }
 },
 "nbformat": 4,
 "nbformat_minor": 4
}
