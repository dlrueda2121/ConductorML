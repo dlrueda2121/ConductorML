{
 "cells": [
  {
   "cell_type": "markdown",
   "metadata": {},
   "source": [
    "# ECS 171 Group Project - Group 10 - ???"
   ]
  },
  {
   "cell_type": "markdown",
   "metadata": {},
   "source": [
    "## Clean/Wrangle Data\n",
    "\n",
    "\"Process the data the same way the paper author did\""
   ]
  },
  {
   "cell_type": "code",
   "execution_count": 1,
   "metadata": {},
   "outputs": [
    {
     "name": "stdout",
     "output_type": "stream",
     "text": [
      "Training Data\n",
      "(21263, 82)\n",
      "   number_of_elements  mean_atomic_mass  wtd_mean_atomic_mass  \\\n",
      "0                   4         88.944468             57.862692   \n",
      "1                   5         92.729214             58.518416   \n",
      "2                   4         88.944468             57.885242   \n",
      "3                   4         88.944468             57.873967   \n",
      "4                   4         88.944468             57.840143   \n",
      "\n",
      "   gmean_atomic_mass  wtd_gmean_atomic_mass  entropy_atomic_mass  \\\n",
      "0          66.361592              36.116612             1.181795   \n",
      "1          73.132787              36.396602             1.449309   \n",
      "2          66.361592              36.122509             1.181795   \n",
      "3          66.361592              36.119560             1.181795   \n",
      "4          66.361592              36.110716             1.181795   \n",
      "\n",
      "   wtd_entropy_atomic_mass  range_atomic_mass  wtd_range_atomic_mass  \\\n",
      "0                 1.062396          122.90607              31.794921   \n",
      "1                 1.057755          122.90607              36.161939   \n",
      "2                 0.975980          122.90607              35.741099   \n",
      "3                 1.022291          122.90607              33.768010   \n",
      "4                 1.129224          122.90607              27.848743   \n",
      "\n",
      "   std_atomic_mass  ...  wtd_mean_Valence  gmean_Valence  wtd_gmean_Valence  \\\n",
      "0        51.968828  ...          2.257143       2.213364           2.219783   \n",
      "1        47.094633  ...          2.257143       1.888175           2.210679   \n",
      "2        51.968828  ...          2.271429       2.213364           2.232679   \n",
      "3        51.968828  ...          2.264286       2.213364           2.226222   \n",
      "4        51.968828  ...          2.242857       2.213364           2.206963   \n",
      "\n",
      "   entropy_Valence  wtd_entropy_Valence  range_Valence  wtd_range_Valence  \\\n",
      "0         1.368922             1.066221              1           1.085714   \n",
      "1         1.557113             1.047221              2           1.128571   \n",
      "2         1.368922             1.029175              1           1.114286   \n",
      "3         1.368922             1.048834              1           1.100000   \n",
      "4         1.368922             1.096052              1           1.057143   \n",
      "\n",
      "   std_Valence  wtd_std_Valence  critical_temp  \n",
      "0     0.433013         0.437059           29.0  \n",
      "1     0.632456         0.468606           26.0  \n",
      "2     0.433013         0.444697           19.0  \n",
      "3     0.433013         0.440952           22.0  \n",
      "4     0.433013         0.428809           23.0  \n",
      "\n",
      "[5 rows x 82 columns]\n",
      "\n",
      "Chemical formulas\n",
      "(21263, 88)\n",
      "     H  He   Li   Be    B    C    N    O    F  Ne  ...   Au   Hg   Tl   Pb  \\\n",
      "0  0.0   0  0.0  0.0  0.0  0.0  0.0  4.0  0.0   0  ...  0.0  0.0  0.0  0.0   \n",
      "1  0.0   0  0.0  0.0  0.0  0.0  0.0  4.0  0.0   0  ...  0.0  0.0  0.0  0.0   \n",
      "2  0.0   0  0.0  0.0  0.0  0.0  0.0  4.0  0.0   0  ...  0.0  0.0  0.0  0.0   \n",
      "3  0.0   0  0.0  0.0  0.0  0.0  0.0  4.0  0.0   0  ...  0.0  0.0  0.0  0.0   \n",
      "4  0.0   0  0.0  0.0  0.0  0.0  0.0  4.0  0.0   0  ...  0.0  0.0  0.0  0.0   \n",
      "\n",
      "    Bi  Po  At  Rn  critical_temp                material  \n",
      "0  0.0   0   0   0           29.0         Ba0.2La1.8Cu1O4  \n",
      "1  0.0   0   0   0           26.0  Ba0.1La1.9Ag0.1Cu0.9O4  \n",
      "2  0.0   0   0   0           19.0         Ba0.1La1.9Cu1O4  \n",
      "3  0.0   0   0   0           22.0       Ba0.15La1.85Cu1O4  \n",
      "4  0.0   0   0   0           23.0         Ba0.3La1.7Cu1O4  \n",
      "\n",
      "[5 rows x 88 columns]\n"
     ]
    }
   ],
   "source": [
    "import pandas as pd\n",
    "\n",
    "#Contains 81 features extracted from 21263 superconductors along with the critical temperature in the 82nd column\n",
    "train = pd.read_csv('./../superconduct/train.csv')\n",
    "\n",
    "#Contains the chemical formula broken up for all the 21263 superconductors from the train.csv file.\n",
    "#The last two columns have the critical temperature and chemical formula.\n",
    "formula = pd.read_csv('./../superconduct/unique_m.csv')\n",
    "\n",
    "print(\"Training Data\")\n",
    "print(train.shape)\n",
    "print(train.head())\n",
    "\n",
    "print(\"\\nChemical formulas\")\n",
    "print(formula.shape)\n",
    "print(formula.head())"
   ]
  },
  {
   "cell_type": "code",
   "execution_count": null,
   "metadata": {},
   "outputs": [],
   "source": []
  },
  {
   "cell_type": "markdown",
   "metadata": {},
   "source": [
    "## Replicate original XGBoost model"
   ]
  },
  {
   "cell_type": "code",
   "execution_count": null,
   "metadata": {},
   "outputs": [],
   "source": []
  },
  {
   "cell_type": "markdown",
   "metadata": {},
   "source": [
    "## Optimize XGBoost model with tuned hyperparameters"
   ]
  },
  {
   "cell_type": "code",
   "execution_count": null,
   "metadata": {},
   "outputs": [],
   "source": []
  },
  {
   "cell_type": "markdown",
   "metadata": {},
   "source": [
    "## Train and test a Random Forest model"
   ]
  },
  {
   "cell_type": "code",
   "execution_count": null,
   "metadata": {},
   "outputs": [],
   "source": []
  },
  {
   "cell_type": "markdown",
   "metadata": {},
   "source": [
    "## Optimize Random Forest model with tuned hyperparameters"
   ]
  },
  {
   "cell_type": "code",
   "execution_count": null,
   "metadata": {},
   "outputs": [],
   "source": []
  },
  {
   "cell_type": "markdown",
   "metadata": {},
   "source": [
    "## Research Bayesian Neural Networks\n",
    "## Train and test a Bayesian Neural Network"
   ]
  },
  {
   "cell_type": "code",
   "execution_count": null,
   "metadata": {},
   "outputs": [],
   "source": []
  },
  {
   "cell_type": "markdown",
   "metadata": {},
   "source": [
    "## Optimize Bayesian Neural Network with tuned hyperparameters"
   ]
  },
  {
   "cell_type": "code",
   "execution_count": null,
   "metadata": {},
   "outputs": [],
   "source": []
  },
  {
   "cell_type": "markdown",
   "metadata": {},
   "source": [
    "## Analyze all model results and performances"
   ]
  },
  {
   "cell_type": "code",
   "execution_count": null,
   "metadata": {},
   "outputs": [],
   "source": []
  },
  {
   "cell_type": "markdown",
   "metadata": {},
   "source": [
    "## Frontend?"
   ]
  },
  {
   "cell_type": "code",
   "execution_count": 2,
   "metadata": {},
   "outputs": [
    {
     "name": "stdout",
     "output_type": "stream",
     "text": [
      "              atomic_mass     fie  atomic_radius    Density  ElectronAffinity  \\\n",
      "Abbreviation                                                                    \n",
      "H                1.008000  1312.0           53.0     0.0899              74.3   \n",
      "He               4.002602  2372.3           31.0     0.1785               1.5   \n",
      "Li               6.940000   520.2          167.0   535.0000              61.1   \n",
      "Be               9.012183   899.5          112.0  1848.0000               1.5   \n",
      "B               10.810000   800.6           87.0  2460.0000              28.2   \n",
      "\n",
      "              FusionHeat  ThermalConductivity  Valence  \n",
      "Abbreviation                                            \n",
      "H                  0.558               0.1805        1  \n",
      "He                 0.020               0.1513        0  \n",
      "Li                 3.000              85.0000        1  \n",
      "Be                 7.950             190.0000        2  \n",
      "B                 50.000              27.0000        3  \n"
     ]
    }
   ],
   "source": [
    "def getNumeric(input_series):\n",
    "    new_series = input_series.str.split(n=1)\n",
    "    for i in range(0,len(input_series)):\n",
    "        new_series[i] = new_series[i][0]\n",
    "    return pd.to_numeric(new_series)\n",
    "\n",
    "wolfram_data = pd.read_csv('./../superconduct/wolfram_element_data.csv')\n",
    "fie_data = pd.read_csv('./../superconduct/fie.csv')\n",
    "\n",
    "wolfram_data['atomic_mass'] = getNumeric(wolfram_data['atomic_mass'])\n",
    "wolfram_data['atomic_radius'] = getNumeric(wolfram_data['atomic_radius'])\n",
    "wolfram_data['Density'] = getNumeric(wolfram_data['Density'])\n",
    "wolfram_data['ElectronAffinity'] = getNumeric(wolfram_data['ElectronAffinity'])\n",
    "wolfram_data['FusionHeat'] = getNumeric(wolfram_data['FusionHeat'])\n",
    "wolfram_data['ThermalConductivity'] = getNumeric(wolfram_data['ThermalConductivity'])\n",
    "wolfram_data.head()\n",
    "\n",
    "element_data = wolfram_data\n",
    "element_data.insert(3, \"fie\", fie_data,True)\n",
    "element_data = element_data.set_index('Abbreviation')\n",
    "element_data = element_data.drop(['Atomic_Number'],axis=1)\n",
    "element_data['ElectronAffinity'] += 1.5\n",
    "print(element_data.head())"
   ]
  },
  {
   "cell_type": "code",
   "execution_count": 3,
   "metadata": {},
   "outputs": [
    {
     "name": "stdout",
     "output_type": "stream",
     "text": [
      "Test: H2O\n",
      "(['H', 'O'], [2.0, 1.0])\n"
     ]
    }
   ],
   "source": [
    "#!Parsing!\n",
    "#Check if input string is valid\n",
    "def checkValid(input_string):\n",
    "    for i in range(0,len(value)):\n",
    "        if(not ((value[i].isupper()) or (value[i].islower()) or (value[i].isdigit()) or (value[i] == '.'))):\n",
    "            return -1\n",
    "\n",
    "#Adds missing ones after abbreviations\n",
    "#HO2 -> H1O2\n",
    "def addOnes(input_string):\n",
    "    tempString = \"\"\n",
    "    for i in range(0,len(input_string)):\n",
    "        tempString += input_string[i]\n",
    "        if(input_string[i].isupper() or input_string[i].islower()):\n",
    "            if(i+1 == len(input_string) or input_string[i+1].isupper()):\n",
    "                tempString += '1'\n",
    "    return tempString\n",
    "\n",
    "#Adds spaces after tokens\n",
    "#H2O1 -> H 2 O 1\n",
    "def addSpaces(input_string):\n",
    "    tempString = \"\"\n",
    "    \n",
    "    for i in range(0,len(input_string)-1):\n",
    "        tempString += input_string[i]\n",
    "        if(input_string[i].isupper() or input_string[i].islower()):\n",
    "            if(input_string[i+1].isdigit()):\n",
    "                tempString += ' '\n",
    "        elif(input_string[i].isdigit()):\n",
    "            if(input_string[i+1].isupper()):\n",
    "                tempString += ' '\n",
    "    tempString += input_string[len(input_string)-1]\n",
    "    return tempString\n",
    "\n",
    "#Parse string into two lists\n",
    "#List of abbreviations and list of numbers\n",
    "def parseInput(input_string):\n",
    "    checkValid(input_string)\n",
    "    parsedString = addOnes(input_string)\n",
    "    parsedString = addSpaces(parsedString)\n",
    "    parsedList = parsedString.split(' ')\n",
    "    \n",
    "    abbreviations = []\n",
    "    numbers = []\n",
    "    for i in range(0,len(parsedList)):\n",
    "        if(i%2 == 0):\n",
    "            abbreviations.append(parsedList[i])\n",
    "        else:\n",
    "            numbers.append(float(parsedList[i]))\n",
    "    \n",
    "    return abbreviations, numbers\n",
    "\n",
    "value = input(\"Test: \")\n",
    "parsed = parseInput(value)\n",
    "print(parsed)\n",
    "            "
   ]
  },
  {
   "cell_type": "code",
   "execution_count": null,
   "metadata": {},
   "outputs": [],
   "source": []
  },
  {
   "cell_type": "code",
   "execution_count": 4,
   "metadata": {},
   "outputs": [
    {
     "name": "stdout",
     "output_type": "stream",
     "text": [
      "0.05926971247133533\n",
      "0.9407302875286646\n",
      "0.4996382192772002\n",
      "0.5003617807227998\n",
      "0.5247524752475248\n",
      "0.4752475247524752\n",
      "0.05918756995193889\n",
      "0.940812430048061\n",
      "0.3427121771217712\n",
      "0.6572878228782287\n",
      "0.7153846153846154\n",
      "0.28461538461538466\n",
      "0.8716438091558818\n",
      "0.12835619084411823\n",
      "0.3333333333333333\n",
      "0.6666666666666666\n",
      "[2, 8.5035, 6.005, 4.0158426263986, 2.533210624773533, 0.22495136450426279, 0.35048137066156815, 14.991, 4.6610000000000005, 7.4955, 7.066825171178356, 1312.95, 1312.6333333333332, 1312.9496563082685, 1312.633027854131, 0.6931449187913397, 0.6367348935678336, 1.900000000000091, 436.69999999999993, 0.9500000000000455, 0.8956685895030031, 50.5, 51.33333333333333, 50.438080851673966, 51.27798986638827, 0.6919193094983018, 0.6204428589129865, 5.0, 19.33333333333333, 2.5, 2.3570226039551585, 0.7594500000000001, 0.5362666666666667, 0.3584230740340248, 0.22603925682691642, 0.22472421620742297, 0.3501779540750363, 1.3391, 0.4164, 0.6695500000000001, 0.6312577937912706, 108.4, 97.03333333333333, 102.89679295293901, 92.31327611387782, 0.6428160801232348, 0.6929256085143403, 68.2, 2.0333333333333314, 34.1, 32.149788317948364, 0.38999999999999996, 0.44599999999999995, 0.3519602250254991, 0.4103997845489789, 0.5972577148342757, 0.44935432716556256, 0.33599999999999997, 0.29799999999999993, 0.16799999999999998, 0.1583919189857866, 0.10354, 0.12919333333333333, 0.06926535930752109, 0.0953168752118605, 0.3832479041091914, 0.24994667212288757, 0.15392, 0.11147333333333331, 0.07696, 0.0725585838401556, 1.5, 1.3333333333333333, 1.4142135623730951, 1.2599210498948732, 0.6365121682970628, 0.6931451805619453, 1.0, 0.0, 0.5, 0.4714045207910317]\n",
      "81\n"
     ]
    }
   ],
   "source": [
    "from math import log\n",
    "\n",
    "def getRatios(input_list):\n",
    "    total = sum(input_list)\n",
    "    ratios = []\n",
    "    for i in range(0,len(input_list)):\n",
    "        ratios.append(input_list[i]/total)\n",
    "\n",
    "    return ratios\n",
    "\n",
    "def getValues(input_list,new_dataframe,colname):\n",
    "    newlist = []\n",
    "    for i in range(0,len(input_list)):\n",
    "        newlist.append(element_data.loc[new_dataframe['Abb'][i]][colname])\n",
    "    return newlist\n",
    "\n",
    "def getW(input_list):\n",
    "    total = sum(input_list)\n",
    "    wlist = []\n",
    "    for i in range(0,len(input_list)):\n",
    "        wlist.append(input_list[i]/total)\n",
    "    return wlist\n",
    "        \n",
    "def getInt(p,w):\n",
    "    total = 0\n",
    "    intList = []\n",
    "    for i in range(0,len(p)):\n",
    "        total += p[i]*w[i]\n",
    "    for i in range(0,len(p)):\n",
    "        intList.append((p[i]*w[i])/total)\n",
    "    return intList\n",
    "    \n",
    "def mean(input_list,n):\n",
    "    total = sum(input_list)/n\n",
    "\n",
    "    return total\n",
    "    \n",
    "def weightedMean(input_list,p):\n",
    "    total = 0\n",
    "    for i in range(0,len(input_list)):\n",
    "        total += input_list[i]*p[i]\n",
    "    \n",
    "    return total\n",
    "    \n",
    "def geometricMean(input_list,n):\n",
    "    total = 1\n",
    "    for i in range(0,len(input_list)):\n",
    "        total = total*input_list[i]\n",
    "    total = pow(total,1/n)\n",
    "\n",
    "    return total\n",
    "    \n",
    "def weightedGeometricMean(input_list,p):\n",
    "    total = 1\n",
    "    for i in range(0,len(input_list)):\n",
    "        total = total*pow(input_list[i],p[i])\n",
    "    \n",
    "    return total\n",
    "    \n",
    "def entropy(wList):\n",
    "    total = 0\n",
    "    for i in range(0,len(wList)):\n",
    "        print(wList[i])\n",
    "        total -= (wList[i]*log(wList[i]+0.000001))\n",
    "    \n",
    "    return total\n",
    "    \n",
    "def weightedEntropy(input_list):\n",
    "    total = 0\n",
    "    for i in range(0,len(input_list)):\n",
    "        total = total - (input_list[i]*log(input_list[i]+0.000001))\n",
    "        \n",
    "    return total\n",
    "    \n",
    "def getRange(input_list):\n",
    "    maximum = max(input_list)\n",
    "    minimum = min(input_list)\n",
    "    \n",
    "    return maximum - minimum\n",
    "    \n",
    "def getWeightedRange(input_list,p):\n",
    "    tempList = []\n",
    "    for i in range(0,len(input_list)):\n",
    "        tempList.append(p[i]*input_list[i])\n",
    "    maximum = max(tempList)\n",
    "    #max_index = input_list.index(maximum)\n",
    "    minimum = min(tempList)\n",
    "    #min_index = input_list.index(minimum)\n",
    "    \n",
    "    return maximum - minimum\n",
    "    \n",
    "def stdDev(input_list,mean,n):\n",
    "    total = 0\n",
    "    for i in range(0,len(input_list)):\n",
    "        total += pow((input_list[i]-mean),2)\n",
    "    total = (1/n)*total\n",
    "    total = pow(total,0.5)\n",
    "    \n",
    "    return total\n",
    "    \n",
    "def weightedStdDev(input_list,p,wtdMean):\n",
    "    total = 0\n",
    "    for i in range(0,len(input_list)):\n",
    "        total += p[i]*pow((input_list[i]-wtdMean),2)\n",
    "    total = pow(total,0.5)\n",
    "    \n",
    "    return total\n",
    "    \n",
    "def makeSample(data):\n",
    "    new_dataframe = pd.DataFrame(data)\n",
    "    new_dataframe = new_dataframe.T\n",
    "    new_dataframe.columns = ['Abb','Num']\n",
    "    ratios = getRatios(new_dataframe['Num'])\n",
    "    numValues = new_dataframe.shape[0]\n",
    "    \n",
    "    sampleList = []\n",
    "    sampleList.append(numValues)\n",
    "    \n",
    "    #len(element_data.columns)\n",
    "    for i in range(0,len(element_data.columns)):\n",
    "        valueList = getValues(new_dataframe['Abb'],new_dataframe,element_data.columns[i])\n",
    "        wList = getW(valueList)\n",
    "        intList = getInt(ratios,wList)\n",
    "        \n",
    "        mu = mean(valueList,numValues)\n",
    "        v = weightedMean(valueList,ratios)\n",
    "        \n",
    "        sampleList.append(mu)\n",
    "        sampleList.append(v)\n",
    "        sampleList.append(geometricMean(valueList,numValues))\n",
    "        sampleList.append(weightedGeometricMean(valueList,ratios))\n",
    "        sampleList.append(entropy(wList))\n",
    "        sampleList.append(weightedEntropy(intList))\n",
    "        sampleList.append(getRange(valueList))\n",
    "        sampleList.append(getWeightedRange(valueList,ratios))\n",
    "        sampleList.append(stdDev(valueList,mu,numValues))\n",
    "        sampleList.append(weightedStdDev(valueList,ratios,v))\n",
    "        \n",
    "    print(sampleList)\n",
    "        \n",
    "    return sampleList\n",
    "    \n",
    "Listy = makeSample(parsed)\n",
    "print(len(Listy))"
   ]
  }
 ],
 "metadata": {
  "kernelspec": {
   "display_name": "Python 3",
   "language": "python",
   "name": "python3"
  },
  "language_info": {
   "codemirror_mode": {
    "name": "ipython",
    "version": 3
   },
   "file_extension": ".py",
   "mimetype": "text/x-python",
   "name": "python",
   "nbconvert_exporter": "python",
   "pygments_lexer": "ipython3",
   "version": "3.8.3"
  }
 },
 "nbformat": 4,
 "nbformat_minor": 4
}
