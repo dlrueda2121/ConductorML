{
 "cells": [
  {
   "cell_type": "markdown",
   "metadata": {},
   "source": [
    "# ECS 171 Group Project - Group 10 - ???"
   ]
  },
  {
   "cell_type": "markdown",
   "metadata": {},
   "source": [
    "## Clean/Wrangle Data\n",
    "\n",
    "\"Process the data the same way the paper author did\""
   ]
  },
  {
   "cell_type": "code",
   "execution_count": 8,
   "metadata": {},
   "outputs": [
    {
     "name": "stdout",
     "output_type": "stream",
     "text": [
      "Training Data\n",
      "(21263, 82)\n",
      "   number_of_elements  mean_atomic_mass  wtd_mean_atomic_mass  \\\n",
      "0                   4         88.944468             57.862692   \n",
      "1                   5         92.729214             58.518416   \n",
      "2                   4         88.944468             57.885242   \n",
      "3                   4         88.944468             57.873967   \n",
      "4                   4         88.944468             57.840143   \n",
      "\n",
      "   gmean_atomic_mass  wtd_gmean_atomic_mass  entropy_atomic_mass  \\\n",
      "0          66.361592              36.116612             1.181795   \n",
      "1          73.132787              36.396602             1.449309   \n",
      "2          66.361592              36.122509             1.181795   \n",
      "3          66.361592              36.119560             1.181795   \n",
      "4          66.361592              36.110716             1.181795   \n",
      "\n",
      "   wtd_entropy_atomic_mass  range_atomic_mass  wtd_range_atomic_mass  \\\n",
      "0                 1.062396          122.90607              31.794921   \n",
      "1                 1.057755          122.90607              36.161939   \n",
      "2                 0.975980          122.90607              35.741099   \n",
      "3                 1.022291          122.90607              33.768010   \n",
      "4                 1.129224          122.90607              27.848743   \n",
      "\n",
      "   std_atomic_mass  ...  wtd_mean_Valence  gmean_Valence  wtd_gmean_Valence  \\\n",
      "0        51.968828  ...          2.257143       2.213364           2.219783   \n",
      "1        47.094633  ...          2.257143       1.888175           2.210679   \n",
      "2        51.968828  ...          2.271429       2.213364           2.232679   \n",
      "3        51.968828  ...          2.264286       2.213364           2.226222   \n",
      "4        51.968828  ...          2.242857       2.213364           2.206963   \n",
      "\n",
      "   entropy_Valence  wtd_entropy_Valence  range_Valence  wtd_range_Valence  \\\n",
      "0         1.368922             1.066221              1           1.085714   \n",
      "1         1.557113             1.047221              2           1.128571   \n",
      "2         1.368922             1.029175              1           1.114286   \n",
      "3         1.368922             1.048834              1           1.100000   \n",
      "4         1.368922             1.096052              1           1.057143   \n",
      "\n",
      "   std_Valence  wtd_std_Valence  critical_temp  \n",
      "0     0.433013         0.437059           29.0  \n",
      "1     0.632456         0.468606           26.0  \n",
      "2     0.433013         0.444697           19.0  \n",
      "3     0.433013         0.440952           22.0  \n",
      "4     0.433013         0.428809           23.0  \n",
      "\n",
      "[5 rows x 82 columns]\n",
      "\n",
      "Chemical formulas\n",
      "(21263, 88)\n",
      "     H  He   Li   Be    B    C    N    O    F  Ne  ...   Au   Hg   Tl   Pb  \\\n",
      "0  0.0   0  0.0  0.0  0.0  0.0  0.0  4.0  0.0   0  ...  0.0  0.0  0.0  0.0   \n",
      "1  0.0   0  0.0  0.0  0.0  0.0  0.0  4.0  0.0   0  ...  0.0  0.0  0.0  0.0   \n",
      "2  0.0   0  0.0  0.0  0.0  0.0  0.0  4.0  0.0   0  ...  0.0  0.0  0.0  0.0   \n",
      "3  0.0   0  0.0  0.0  0.0  0.0  0.0  4.0  0.0   0  ...  0.0  0.0  0.0  0.0   \n",
      "4  0.0   0  0.0  0.0  0.0  0.0  0.0  4.0  0.0   0  ...  0.0  0.0  0.0  0.0   \n",
      "\n",
      "    Bi  Po  At  Rn  critical_temp                material  \n",
      "0  0.0   0   0   0           29.0         Ba0.2La1.8Cu1O4  \n",
      "1  0.0   0   0   0           26.0  Ba0.1La1.9Ag0.1Cu0.9O4  \n",
      "2  0.0   0   0   0           19.0         Ba0.1La1.9Cu1O4  \n",
      "3  0.0   0   0   0           22.0       Ba0.15La1.85Cu1O4  \n",
      "4  0.0   0   0   0           23.0         Ba0.3La1.7Cu1O4  \n",
      "\n",
      "[5 rows x 88 columns]\n"
     ]
    }
   ],
   "source": [
    "import pandas as pd\n",
    "\n",
    "#Contains 81 features extracted from 21263 superconductors along with the critical temperature in the 82nd column\n",
    "train = pd.read_csv('./../superconduct/train.csv')\n",
    "\n",
    "#Contains the chemical formula broken up for all the 21263 superconductors from the train.csv file.\n",
    "#The last two columns have the critical temperature and chemical formula.\n",
    "formula = pd.read_csv('./../superconduct/unique_m.csv')\n",
    "\n",
    "print(\"Training Data\")\n",
    "print(train.shape)\n",
    "print(train.head())\n",
    "\n",
    "print(\"\\nChemical formulas\")\n",
    "print(formula.shape)\n",
    "print(formula.head())"
   ]
  },
  {
   "cell_type": "code",
   "execution_count": null,
   "metadata": {},
   "outputs": [],
   "source": []
  },
  {
   "cell_type": "markdown",
   "metadata": {},
   "source": [
    "## Replicate original XGBoost model"
   ]
  },
  {
   "cell_type": "code",
   "execution_count": null,
   "metadata": {},
   "outputs": [],
   "source": []
  },
  {
   "cell_type": "markdown",
   "metadata": {},
   "source": [
    "## Optimize XGBoost model with tuned hyperparameters"
   ]
  },
  {
   "cell_type": "code",
   "execution_count": null,
   "metadata": {},
   "outputs": [],
   "source": []
  },
  {
   "cell_type": "markdown",
   "metadata": {},
   "source": [
    "## Train and test a Random Forest model"
   ]
  },
  {
   "cell_type": "code",
   "execution_count": null,
   "metadata": {},
   "outputs": [],
   "source": []
  },
  {
   "cell_type": "markdown",
   "metadata": {},
   "source": [
    "## Optimize Random Forest model with tuned hyperparameters"
   ]
  },
  {
   "cell_type": "code",
   "execution_count": null,
   "metadata": {},
   "outputs": [],
   "source": []
  },
  {
   "cell_type": "markdown",
   "metadata": {},
   "source": [
    "## Research Bayesian Neural Networks\n",
    "## Train and test a Bayesian Neural Network"
   ]
  },
  {
   "cell_type": "code",
   "execution_count": null,
   "metadata": {},
   "outputs": [],
   "source": []
  },
  {
   "cell_type": "markdown",
   "metadata": {},
   "source": [
    "## Optimize Bayesian Neural Network with tuned hyperparameters"
   ]
  },
  {
   "cell_type": "code",
   "execution_count": null,
   "metadata": {},
   "outputs": [],
   "source": []
  },
  {
   "cell_type": "markdown",
   "metadata": {},
   "source": [
    "## Analyze all model results and performances"
   ]
  },
  {
   "cell_type": "code",
   "execution_count": null,
   "metadata": {},
   "outputs": [],
   "source": []
  },
  {
   "cell_type": "markdown",
   "metadata": {},
   "source": [
    "## Frontend?"
   ]
  }
 ],
 "metadata": {
  "kernelspec": {
   "display_name": "Python 3",
   "language": "python",
   "name": "python3"
  },
  "language_info": {
   "codemirror_mode": {
    "name": "ipython",
    "version": 3
   },
   "file_extension": ".py",
   "mimetype": "text/x-python",
   "name": "python",
   "nbconvert_exporter": "python",
   "pygments_lexer": "ipython3",
   "version": "3.8.3"
  }
 },
 "nbformat": 4,
 "nbformat_minor": 4
}
