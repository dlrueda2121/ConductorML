{
 "metadata": {
  "language_info": {
   "codemirror_mode": {
    "name": "ipython",
    "version": 3
   },
   "file_extension": ".py",
   "mimetype": "text/x-python",
   "name": "python",
   "nbconvert_exporter": "python",
   "pygments_lexer": "ipython3",
   "version": "3.8.3-final"
  },
  "orig_nbformat": 2,
  "kernelspec": {
   "name": "python3",
   "display_name": "Python 3"
  }
 },
 "nbformat": 4,
 "nbformat_minor": 2,
 "cells": [
  {
   "cell_type": "code",
   "execution_count": 1,
   "metadata": {},
   "outputs": [],
   "source": [
    "import math\n",
    "import matplotlib.pylab as plt\n",
    "import numpy as np \n",
    "import pandas as pd \n",
    "import xgboost as xgb\n",
    "\n",
    "from sklearn.metrics import mean_squared_error\n",
    "from sklearn.ensemble import RandomForestRegressor\n",
    "from sklearn.model_selection import train_test_split\n",
    "from sklearn.model_selection import cross_val_score\n",
    "from sklearn.model_selection import RandomizedSearchCV\n",
    "\n",
    "np.random.seed(171)"
   ]
  },
  {
   "cell_type": "code",
   "execution_count": 2,
   "metadata": {},
   "outputs": [],
   "source": [
    "X_train = pd.read_csv(r\"C:\\Users\\patri\\Documents\\GitHub\\ECS171-Project-Group-10\\Data\\X_train.csv\", delimiter = ',', header = None)\n",
    "X_test = pd.read_csv(r\"C:\\Users\\patri\\Documents\\GitHub\\ECS171-Project-Group-10\\Data\\X_test.csv\", delimiter = ',', header = None)\n",
    "Y_train = pd.read_csv(r\"C:\\Users\\patri\\Documents\\GitHub\\ECS171-Project-Group-10\\Data\\Y_train.csv\", header = None)\n",
    "Y_test = pd.read_csv(r\"C:\\Users\\patri\\Documents\\GitHub\\ECS171-Project-Group-10\\Data\\Y_test.csv\", header = None)"
   ]
  },
  {
   "cell_type": "code",
   "execution_count": 3,
   "metadata": {},
   "outputs": [
    {
     "output_type": "stream",
     "name": "stdout",
     "text": [
      "Random Forest Training Score: 0.9789047035558702\nRandom Forest Testing Score: 0.9202344847137612\nRandom Forest Training RMSE 24.57722324398197\nRandom Forest Testing RMSE: 9.742821488829312\n"
     ]
    }
   ],
   "source": [
    "rf = RandomForestRegressor(n_jobs = -1)\n",
    "\n",
    "rf.fit(X_train, Y_train)\n",
    "Y_pred_train_rf = rf.predict(X_train)\n",
    "Y_pred_rf = rf.predict(X_test)\n",
    "\n",
    "print(\"Random Forest Training Score:\", rf.score(X_train, Y_train))\n",
    "print(\"Random Forest Testing Score:\", rf.score(X_test, Y_test))\n",
    "print(\"Random Forest Training RMSE\", mean_squared_error(Y_train, Y_pred_train_rf))\n",
    "print(\"Random Forest Testing RMSE:\", mean_squared_error(Y_test, Y_pred_rf, squared = False))"
   ]
  },
  {
   "cell_type": "code",
   "execution_count": 10,
   "metadata": {},
   "outputs": [
    {
     "output_type": "stream",
     "name": "stdout",
     "text": [
      "Now running RandomizedSearchCV on Tree Hyperparameters...\n",
      "\n",
      "Fitting 10 folds for each of 10 candidates, totalling 100 fits\n",
      "[Parallel(n_jobs=-1)]: Using backend LokyBackend with 16 concurrent workers.\n",
      "[Parallel(n_jobs=-1)]: Done  18 tasks      | elapsed:  1.1min\n",
      "[Parallel(n_jobs=-1)]: Done 100 out of 100 | elapsed:  4.0min finished\n",
      "\n",
      "========================= Hyperparameter Tuning =========================\n",
      "\n",
      "The score for the best model is: 0.9205818641608783\n",
      "\n",
      "The best parameters are:\n",
      " {'n_estimators': 250, 'max_features': 20, 'max_depth': 60}\n",
      "===========================================================================\n",
      "Now running RandomizedSearchCV on CCPA Alpha Values...\n",
      "\n",
      "Fitting 10 folds for each of 10 candidates, totalling 100 fits\n",
      "[Parallel(n_jobs=-1)]: Using backend LokyBackend with 16 concurrent workers.\n",
      "[Parallel(n_jobs=-1)]: Done  18 tasks      | elapsed:  2.5min\n",
      "[Parallel(n_jobs=-1)]: Done 100 out of 100 | elapsed:  8.7min finished\n",
      "\n",
      "========================= CCP Alpha Pruning =========================\n",
      "\n",
      "The score for the best model is: 0.917302958389261\n",
      "\n",
      "The best parameters are:\n",
      " {'ccp_alpha': 0.0075}\n",
      "=======================================================================\n"
     ]
    }
   ],
   "source": [
    "rf_param = {'n_estimators': [100, 150, 200, 250],\n",
    "            'max_depth': [30, 40, 50, 60, 70],\n",
    "            'max_features': ['auto', 'sqrt', 'log2', 15, 20, 25, 30, 35, 40]}\n",
    "\n",
    "rf_param_ccpa = {'ccp_alpha': [0.0025, 0.005, 0.0075, 0.010, 0.0125, 0.015, 0.0175, 0.020, 0.0225, 0.025, 0.0275, 0.030]}\n",
    "\n",
    "print(\"Now running RandomizedSearchCV on Tree Hyperparameters...\\n\")\n",
    "\n",
    "rf_rands = RandomizedSearchCV(rf, rf_param, cv = 10, n_jobs = -1, verbose = True)\n",
    "rf_rands.fit(X_train, Y_train)\n",
    "\n",
    "print(\"\\n========================= Hyperparameter Tuning =========================\")\n",
    "print(\"\\nThe score for the best model is:\", rf_rands.best_score_)\n",
    "print(\"\\nThe best parameters are:\\n\", rf_rands.best_params_)\n",
    "print(\"=========================================================================\")\n",
    "print(\"Now running RandomizedSearchCV on CCP Alpha values...\\n\")\n",
    "rf_rands_ccpa = RandomizedSearchCV(rf, rf_param_ccpa, cv = 10, n_jobs = -1, verbose = True)\n",
    "rf_rands_ccpa.fit(X_train, Y_train)\n",
    "\n",
    "print(\"\\n========================= CCP Alpha Pruning =========================\")\n",
    "print(\"\\nThe score for the best model is:\", rf_rands_ccpa.best_score_)\n",
    "print(\"\\nThe best CCP Alpha is:\\n\", rf_rands_ccpa.best_params_)\n",
    "print(\"=====================================================================\")"
   ]
  },
  {
   "cell_type": "code",
   "execution_count": 11,
   "metadata": {},
   "outputs": [
    {
     "output_type": "stream",
     "name": "stdout",
     "text": [
      "Tree Param Random Forest Training Score: 0.9794135856445266\nTree Param Random Forest Testing Score: 0.9218007222861753\nTree Param Random Forest Training RMSE: 23.9843465934502\nTree Param Random Forest Testing RMSE: 9.646694578477193\n"
     ]
    }
   ],
   "source": [
    "rf_opt = RandomForestRegressor(n_estimators = 250, max_features = 25, max_depth = 30, n_jobs = -1)\n",
    "#rf_opt = RandomForestRegressor(ccp_alpha = 0.0175, n_jobs = -1)\n",
    "rf_opt.fit(X_train, Y_train)\n",
    "Y_pred_train_rf_opt = rf_opt.predict(X_train)\n",
    "Y_pred_rf_opt = rf_opt.predict(X_test)\n",
    "\n",
    "print(\"Tree Param Random Forest Training Score:\", rf_opt.score(X_train, Y_train))\n",
    "print(\"Tree Param Random Forest Testing Score:\", rf_opt.score(X_test, Y_test))\n",
    "print(\"Tree Param Random Forest Training RMSE:\", mean_squared_error(Y_train, Y_pred_train_rf_opt))\n",
    "print(\"Tree Param Random Forest Testing RMSE:\", mean_squared_error(Y_test, Y_pred_rf_opt, squared = False))"
   ]
  },
  {
   "cell_type": "code",
   "execution_count": 12,
   "metadata": {},
   "outputs": [
    {
     "output_type": "stream",
     "name": "stdout",
     "text": [
      "Tree Param Random Forest Training Score: 0.9793897766106074\nTree Param Random Forest Testing Score: 0.9220464189474245\nTree Param Random Forest Training RMSE: 24.012085475594063\nTree Param Random Forest Testing RMSE: 9.631528036217661\n"
     ]
    }
   ],
   "source": [
    "rf_opt = RandomForestRegressor(n_estimators = 250, max_features = 20, max_depth = 60, n_jobs = -1)\n",
    "rf_opt.fit(X_train, Y_train)\n",
    "Y_pred_train_rf_opt = rf_opt.predict(X_train)\n",
    "Y_pred_rf_opt = rf_opt.predict(X_test)\n",
    "\n",
    "print(\"Tree Param Random Forest Training Score:\", rf_opt.score(X_train, Y_train))\n",
    "print(\"Tree Param Random Forest Testing Score:\", rf_opt.score(X_test, Y_test))\n",
    "print(\"Tree Param Random Forest Training RMSE:\", mean_squared_error(Y_train, Y_pred_train_rf_opt))\n",
    "print(\"Tree Param Random Forest Testing RMSE:\", mean_squared_error(Y_test, Y_pred_rf_opt, squared = False))"
   ]
  },
  {
   "cell_type": "code",
   "execution_count": 6,
   "metadata": {},
   "outputs": [
    {
     "output_type": "stream",
     "name": "stdout",
     "text": [
      "Optimized Random Forest Training Score: 0.9794383357141647\nOptimized Random Forest Testing Score: 0.9222047035296672\nOptimized Random Forest Training RMSE: 27.207440632241905\nOptimized Random Forest Testing RMSE: 9.621744668715246\n"
     ]
    }
   ],
   "source": [
    "rf_ccpa = RandomForestRegressor(ccp_alpha = 0.0075, n_jobs = -1)\n",
    "rf_ccpa.fit(X_train, Y_train)\n",
    "Y_pred_train_ccpa = rf_ccpa.predict(X_train)\n",
    "Y_pred_ccpa = rf_opt.predict(X_test)\n",
    "\n",
    "print(\"Optimized Random Forest Training Score:\", rf_opt.score(X_train, Y_train))\n",
    "print(\"Optimized Random Forest Testing Score:\", rf_opt.score(X_test, Y_test))\n",
    "print(\"Optimized Random Forest Training RMSE:\", mean_squared_error(Y_train, Y_pred_train_ccpa))\n",
    "print(\"Optimized Random Forest Testing RMSE:\", mean_squared_error(Y_test, Y_pred_ccpa, squared = False))"
   ]
  },
  {
   "cell_type": "code",
   "execution_count": null,
   "metadata": {},
   "outputs": [],
   "source": []
  }
 ]
}