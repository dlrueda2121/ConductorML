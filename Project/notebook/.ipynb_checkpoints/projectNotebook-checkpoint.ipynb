{
 "cells": [
  {
   "cell_type": "markdown",
   "metadata": {},
   "source": [
    "# ECS 171 Group Project - Group 10 - Reference ANN"
   ]
  },
  {
   "cell_type": "code",
   "execution_count": 1,
   "metadata": {},
   "outputs": [],
   "source": [
    "import numpy as np\n",
    "import pandas as pd\n",
    "\n",
    "np.random.seed(171)\n",
    "\n",
    "#Contains 81 features extracted from 21263 superconductors along with the critical temperature in the 82nd column\n",
    "X_train = pd.read_csv('./../../Data/X_train.csv', header=None)\n",
    "Y_train = pd.read_csv('./../../Data/Y_train.csv', header=None)\n",
    "\n",
    "X_test  = pd.read_csv('./../../Data/X_test.csv', header=None)\n",
    "Y_test  = pd.read_csv('./../../Data/Y_test.csv', header=None)"
   ]
  },
  {
   "cell_type": "markdown",
   "metadata": {},
   "source": [
    "## Untuned Reference Neural Network"
   ]
  },
  {
   "cell_type": "code",
   "execution_count": 22,
   "metadata": {},
   "outputs": [
    {
     "name": "stdout",
     "output_type": "stream",
     "text": [
      "220/220 [==============================] - 0s 501us/step - loss: 170.8322 - coeff_determination: 0.8416\n",
      "\n",
      "train loss: 126.22565460205078\n",
      "train R^2:  0.8874731659889221\n",
      "test loss:  170.83221435546875\n",
      "test  R^2:  0.8416078090667725\n"
     ]
    }
   ],
   "source": [
    "from tensorflow import keras\n",
    "from tensorflow.keras import Sequential\n",
    "from tensorflow.keras import layers\n",
    "from sklearn.preprocessing import MinMaxScaler\n",
    "from tensorflow.keras.layers import Dense\n",
    "\n",
    "# source: https://jmlb.github.io/ml/2017/03/20/CoeffDetermination_CustomMetric4Keras/\n",
    "from tensorflow.keras import backend as K\n",
    "# calculate R^2\n",
    "def coeff_determination(y_true, y_pred):\n",
    "    SS_res =  K.sum(K.square( y_true-y_pred )) \n",
    "    SS_tot = K.sum(K.square( y_true - K.mean(y_true) ) ) \n",
    "    return ( 1 - SS_res/(SS_tot + K.epsilon()) )\n",
    "\n",
    "sc = MinMaxScaler()\n",
    "X_train = sc.fit_transform(X_train)\n",
    "X_test = sc.fit_transform(X_test)\n",
    "\n",
    "nn = Sequential(\n",
    "    [\n",
    "        keras.Input(shape=X_train.shape[1]),\n",
    "        layers.Dense(20, activation='relu'),\n",
    "        layers.Dense(60, activation='relu'),\n",
    "        layers.Dense(60, activation='relu'),\n",
    "        layers.Dense(100, activation='relu'),\n",
    "        layers.Dense(60, activation='relu'),\n",
    "        layers.Dense(60, activation='relu'),\n",
    "        layers.Dense(20, activation='relu'),\n",
    "        layers.Dense(1)\n",
    "    ]\n",
    ")\n",
    "\n",
    "\n",
    "nn.compile(optimizer=keras.optimizers.Adam(learning_rate=0.001), \n",
    "           loss=\"mean_squared_error\",\n",
    "           metrics=[coeff_determination])\n",
    "\n",
    "NUM_EPOCHS = 215\n",
    "history = nn.fit(X_train, Y_train, batch_size=64, epochs=NUM_EPOCHS, verbose=0)\n",
    "\n",
    "pred = nn.predict(X_test)\n",
    "results = nn.evaluate(X_test, Y_test)\n",
    "\n",
    "print()\n",
    "print(\"train loss: \" + str(history.history['loss'][NUM_EPOCHS-1]))\n",
    "print(\"train R^2:  \" + str(history.history['coeff_determination'][NUM_EPOCHS-1]))\n",
    "print(\"test loss:  \" + str(results[0]))\n",
    "print(\"test  R^2:  \" + str(results[1]))"
   ]
  },
  {
   "cell_type": "markdown",
   "metadata": {},
   "source": [
    "## Tuned Neural Network"
   ]
  },
  {
   "cell_type": "code",
   "execution_count": 27,
   "metadata": {
    "scrolled": true
   },
   "outputs": [
    {
     "name": "stdout",
     "output_type": "stream",
     "text": [
      "Trial 90 Complete [00h 00m 39s]\n",
      "mean_squared_error: 300.03607177734375\n",
      "\n",
      "Best mean_squared_error So Far: 184.24530029296875\n",
      "Total elapsed time: 01h 02m 48s\n",
      "INFO:tensorflow:Oracle triggered exit\n"
     ]
    }
   ],
   "source": [
    "# source: https://www.sicara.ai/blog/hyperparameter-tuning-keras-tuner\n",
    "#         https://pythonprogramming.net/keras-tuner-optimizing-neural-network-tutorial/\n",
    "#.        https://www.youtube.com/watch?v=vvC15l4CY1Q\n",
    "\n",
    "from kerastuner import HyperModel\n",
    "from kerastuner.tuners import RandomSearch\n",
    "\n",
    "def build_model(hp):\n",
    "    model = Sequential()\n",
    "    model.add(keras.Input(shape=X_train.shape[1]))\n",
    "    for i in range(hp.Int('units', min_value=1, max_value=8, step=1)):\n",
    "        model.add(\n",
    "            Dense(\n",
    "                units=hp.Int('units', min_value=10, max_value=40, step=5),\n",
    "                activation='relu'\n",
    "            )\n",
    "        )\n",
    "#     model.add(\n",
    "#         Dense(\n",
    "#             units=hp.Int('units', 30, 70, 5),\n",
    "#             activation='relu'\n",
    "#         )\n",
    "#     )\n",
    "#     model.add(\n",
    "#         Dense(\n",
    "#             units=hp.Int('units', 30, 70, 5),\n",
    "#             activation='relu'\n",
    "#         )\n",
    "#     )\n",
    "#     model.add(\n",
    "#         Dense(\n",
    "#             units=hp.Int('units', 80, 100, 5),\n",
    "#             activation='relu'\n",
    "#         )\n",
    "#     )\n",
    "#     model.add(\n",
    "#         Dense(\n",
    "#             units=hp.Int('units', 30, 70, 5),\n",
    "#             activation='relu'\n",
    "#         )\n",
    "#     )\n",
    "#     model.add(\n",
    "#         Dense(\n",
    "#             units=hp.Int('units', 30, 70, 5),\n",
    "#             activation='relu'\n",
    "#         )\n",
    "#     )\n",
    "#     model.add(\n",
    "#         Dense(\n",
    "#             units=hp.Int('units', 10, 40, 5),\n",
    "#             activation='relu'\n",
    "#         )\n",
    "#     )\n",
    "    model.add(\n",
    "        Dense(1, activation='linear')\n",
    "    )\n",
    "\n",
    "    model.compile(\n",
    "        optimizer=keras.optimizers.Adam(\n",
    "            hp.Float(\n",
    "                'learning_rate',\n",
    "                min_value=1e-4,\n",
    "                max_value=1e-2,\n",
    "                sampling='LOG',\n",
    "                default=1e-3\n",
    "            )\n",
    "        ),\n",
    "        loss='mean_squared_error',\n",
    "        metrics=[keras.metrics.MeanSquaredError()]\n",
    "    )\n",
    "\n",
    "    return model\n",
    "\n",
    "SEED=1\n",
    "MAX_TRIALS=100\n",
    "EXECUTION_PER_TRIAL=1\n",
    "\n",
    "tuner = RandomSearch(\n",
    "    build_model,\n",
    "    objective='mean_squared_error',\n",
    "    seed=SEED,\n",
    "    max_trials=MAX_TRIALS,\n",
    "    executions_per_trial=EXECUTION_PER_TRIAL,\n",
    "    directory='random_search1',\n",
    "    project_name='group10'\n",
    ")\n",
    "\n",
    "tuner.search(x=X_train,\n",
    "             y=Y_train,\n",
    "             epochs=215,\n",
    "             batch_size=64,\n",
    "             validation_data=(X_test,Y_test))"
   ]
  },
  {
   "cell_type": "code",
   "execution_count": 1,
   "metadata": {},
   "outputs": [
    {
     "ename": "NameError",
     "evalue": "name 'tuner' is not defined",
     "output_type": "error",
     "traceback": [
      "\u001b[0;31m---------------------------------------------------------------------------\u001b[0m",
      "\u001b[0;31mNameError\u001b[0m                                 Traceback (most recent call last)",
      "\u001b[0;32m<ipython-input-1-eb5737611a87>\u001b[0m in \u001b[0;36m<module>\u001b[0;34m\u001b[0m\n\u001b[0;32m----> 1\u001b[0;31m \u001b[0mtuner\u001b[0m\u001b[0;34m.\u001b[0m\u001b[0mget_best_models\u001b[0m\u001b[0;34m(\u001b[0m\u001b[0;34m)\u001b[0m\u001b[0;34m[\u001b[0m\u001b[0;36m0\u001b[0m\u001b[0;34m]\u001b[0m\u001b[0;34m.\u001b[0m\u001b[0msummary\u001b[0m\u001b[0;34m(\u001b[0m\u001b[0;34m)\u001b[0m\u001b[0;34m\u001b[0m\u001b[0;34m\u001b[0m\u001b[0m\n\u001b[0m",
      "\u001b[0;31mNameError\u001b[0m: name 'tuner' is not defined"
     ]
    }
   ],
   "source": [
    "tuner.get_best_models()[0].summary()"
   ]
  },
  {
   "cell_type": "code",
   "execution_count": null,
   "metadata": {},
   "outputs": [],
   "source": []
  }
 ],
 "metadata": {
  "kernelspec": {
   "display_name": "Python 3",
   "language": "python",
   "name": "python3"
  },
  "language_info": {
   "codemirror_mode": {
    "name": "ipython",
    "version": 3
   },
   "file_extension": ".py",
   "mimetype": "text/x-python",
   "name": "python",
   "nbconvert_exporter": "python",
   "pygments_lexer": "ipython3",
   "version": "3.8.3"
  }
 },
 "nbformat": 4,
 "nbformat_minor": 4
}
