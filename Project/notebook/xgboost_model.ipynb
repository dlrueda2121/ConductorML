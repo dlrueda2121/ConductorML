{
 "metadata": {
  "language_info": {
   "codemirror_mode": {
    "name": "ipython",
    "version": 3
   },
   "file_extension": ".py",
   "mimetype": "text/x-python",
   "name": "python",
   "nbconvert_exporter": "python",
   "pygments_lexer": "ipython3",
   "version": "3.8.3-final"
  },
  "orig_nbformat": 2,
  "kernelspec": {
   "name": "python3",
   "display_name": "Python 3"
  }
 },
 "nbformat": 4,
 "nbformat_minor": 2,
 "cells": [
  {
   "cell_type": "code",
   "execution_count": 2,
   "metadata": {},
   "outputs": [],
   "source": [
    "import math\n",
    "import matplotlib.pylab as plt\n",
    "import numpy as np \n",
    "import pandas as pd \n",
    "import xgboost as xgb\n",
    "\n",
    "from sklearn.metrics import mean_squared_error\n",
    "from sklearn.model_selection import train_test_split\n",
    "from sklearn.model_selection import cross_val_score\n",
    "from sklearn.model_selection import RandomizedSearchCV\n",
    "\n",
    "np.random.seed(171)"
   ]
  },
  {
   "cell_type": "code",
   "execution_count": 3,
   "metadata": {},
   "outputs": [],
   "source": [
    "X_train = pd.read_csv(r\"C:\\Users\\patri\\Documents\\GitHub\\ECS171-Project-Group-10\\Data\\X_train.csv\", delimiter = ',', header = None)\n",
    "X_test = pd.read_csv(r\"C:\\Users\\patri\\Documents\\GitHub\\ECS171-Project-Group-10\\Data\\X_test.csv\", delimiter = ',', header = None)\n",
    "Y_train = pd.read_csv(r\"C:\\Users\\patri\\Documents\\GitHub\\ECS171-Project-Group-10\\Data\\Y_train.csv\", header = None)\n",
    "Y_test = pd.read_csv(r\"C:\\Users\\patri\\Documents\\GitHub\\ECS171-Project-Group-10\\Data\\Y_test.csv\", header = None)"
   ]
  },
  {
   "cell_type": "code",
   "execution_count": 4,
   "metadata": {},
   "outputs": [
    {
     "output_type": "stream",
     "name": "stdout",
     "text": [
      "XGB Training Score: 0.9725841871957128\nXGB Testing Score: 0.9115570903929212\nXGB Training RMSE: 10.259085956608864\nXGB Testing RMSE: 10.259085956608864\n"
     ]
    }
   ],
   "source": [
    "import xgboost as xgb\n",
    "\n",
    "xgb = xgb.XGBRegressor(gpu_id = 0)\n",
    "xgb.fit(X_train, Y_train)\n",
    "Y_pred_xgb = xgb.predict(X_test)\n",
    "\n",
    "print(\"XGB Training Score:\", xgb.score(X_train, Y_train))\n",
    "print(\"XGB Testing Score:\", xgb.score(X_test, Y_test))\n",
    "print(\"XGB Training RMSE:\", mean_squared_error(Y_test, Y_pred_xgb, squared = False))\n",
    "print(\"XGB Testing RMSE:\", mean_squared_error(Y_test, Y_pred_xgb, squared = False))"
   ]
  },
  {
   "cell_type": "code",
   "execution_count": 6,
   "metadata": {},
   "outputs": [
    {
     "output_type": "stream",
     "name": "stdout",
     "text": [
      "XGB Training Score: 0.9844637438015794\nXGB Testing Score: 0.9219333469165599\nXGB Training RMSE: 4.254482856073242\nXGB Testing RMSE: 9.63851079304864\n"
     ]
    }
   ],
   "source": [
    "import xgboost as xgb\n",
    "\n",
    "xgb_paper = xgb.XGBRegressor(eta = 0.02, max_depth = 16, subsample = 0.5, n_estimators = 374, gpu_id = 0)\n",
    "xgb_paper.fit(X_train, Y_train)\n",
    "\n",
    "Y_pred_train_paper = xgb_paper.predict(X_train)\n",
    "Y_pred_paper = xgb_paper.predict(X_test)\n",
    "\n",
    "print(\"XGB Training Score:\", xgb_paper.score(X_train, Y_train))\n",
    "print(\"XGB Testing Score:\", xgb_paper.score(X_test, Y_test))\n",
    "print(\"XGB Training RMSE:\", mean_squared_error(Y_train, Y_pred_train_paper, squared = False))\n",
    "print(\"XGB Testing RMSE:\", mean_squared_error(Y_test, Y_pred_paper, squared = False))"
   ]
  },
  {
   "cell_type": "code",
   "execution_count": 64,
   "metadata": {},
   "outputs": [
    {
     "output_type": "stream",
     "name": "stdout",
     "text": [
      "Now running RandomizedSearchCV on XGBoost Hyperparameters...\n",
      "\n",
      "Fitting 10 folds for each of 10 candidates, totalling 100 fits\n",
      "[Parallel(n_jobs=-1)]: Using backend LokyBackend with 16 concurrent workers.\n",
      "[Parallel(n_jobs=-1)]: Done  18 tasks      | elapsed:  9.0min\n",
      "[Parallel(n_jobs=-1)]: Done 100 out of 100 | elapsed: 35.9min finished\n",
      "\n",
      "========================= Hyperparameter Tuning =========================\n",
      "\n",
      "The score for the best model is: 0.9244876323636424\n",
      "\n",
      "The best parameters are:\n",
      " {'tree_method': 'gpu_hist', 'subsample': 0.4, 'sampling_method': 'gradient_based', 'objective': 'reg:squarederror', 'n_estimators': 500, 'max_depth': 10, 'learning_rate': 0.02, 'lambda': 1, 'gpu_id': 0, 'gamma': 1, 'booster': 'dart', 'alpha': 1}\n",
      "=========================================================================\n"
     ]
    }
   ],
   "source": [
    "import xgboost as xgb\n",
    "\n",
    "xgb_param = {'booster': ['gbtree', 'gblinear', 'dart'],\n",
    "             'objective':['reg:squarederror'],\n",
    "             'learning_rate': [0.1, 0.3, 0.5, 0.01, 0.02, 0.03],\n",
    "             'gamma': [0, 1, 2, 3],\n",
    "             'max_depth': [4, 6, 8, 10, 12, 14, 16, 18, 20],\n",
    "             'subsample': [0.3, 0.4, 0.5, 0.6, 0.7],\n",
    "             'sampling_method': ['uniform', 'gradient_based'],\n",
    "             'lambda': [1, 2],\n",
    "             'alpha': [0, 1],\n",
    "             'tree_method': ['gpu_hist', 'exact', 'approx'],\n",
    "             'gpu_id': [0],\n",
    "             'n_estimators': [325, 350, 375, 400, 425]}\n",
    "\n",
    "print(\"Now running RandomizedSearchCV on XGBoost Hyperparameters...\\n\")\n",
    "\n",
    "xgb = xgb.XGBRegressor()\n",
    "xgb_rand = RandomizedSearchCV(xgb, xgb_param, cv = 10, n_jobs = -1, verbose = 1)\n",
    "xgb_rand.fit(X_train, Y_train)\n",
    "\n",
    "print(\"\\n========================= Hyperparameter Tuning =========================\")\n",
    "print(\"\\nThe score for the best model is:\", xgb_rand.best_score_)\n",
    "print(\"\\nThe best parameters are:\\n\", xgb_rand.best_params_)\n",
    "print(\"=========================================================================\")"
   ]
  },
  {
   "cell_type": "code",
   "execution_count": 7,
   "metadata": {},
   "outputs": [
    {
     "output_type": "stream",
     "name": "stdout",
     "text": [
      "XGB Training Score: 0.9844637438015794\nXGB Testing Score: 0.9219333469165599\nXGB Training RMSE: 4.254482856073242\nXGB Testing RMSE: 9.63851079304864\n"
     ]
    }
   ],
   "source": [
    "import xgboost as xgb\n",
    "\n",
    "xgb_opt = xgb.XGBRegressor(tree_method = 'gpu_hist', subsample = 0.4, sampling_method = 'gradient_based', objective = 'reg:squarederror', n_estimators = 500, max_depth = 10, learning_rate = 0.02, gpu_id = 0, gamma = 1, booster = 'dart', alpha = 1)\n",
    "xgb_opt.fit(X_train, Y_train)\n",
    "\n",
    "Y_pred_train_opt = xgb_paper.predict(X_train)\n",
    "Y_pred_opt = xgb_paper.predict(X_test)\n",
    "\n",
    "print(\"XGB Training Score:\", xgb_paper.score(X_train, Y_train))\n",
    "print(\"XGB Testing Score:\", xgb_paper.score(X_test, Y_test))\n",
    "print(\"XGB Training RMSE:\", mean_squared_error(Y_train, Y_pred_train_opt, squared = False))\n",
    "print(\"XGB Testing RMSE:\", mean_squared_error(Y_test, Y_pred_opt, squared = False))"
   ]
  },
  {
   "cell_type": "code",
   "execution_count": null,
   "metadata": {},
   "outputs": [],
   "source": []
  }
 ]
}